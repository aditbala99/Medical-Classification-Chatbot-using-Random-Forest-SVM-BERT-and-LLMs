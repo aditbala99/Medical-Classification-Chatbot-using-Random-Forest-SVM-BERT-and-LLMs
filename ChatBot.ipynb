{
  "nbformat": 4,
  "nbformat_minor": 0,
  "metadata": {
    "colab": {
      "provenance": [],
      "toc_visible": true
    },
    "kernelspec": {
      "name": "python3",
      "display_name": "Python 3"
    },
    "language_info": {
      "name": "python"
    }
  },
  "cells": [
    {
      "cell_type": "code",
      "source": [
        "import pandas as pd\n",
        "from sklearn.ensemble import RandomForestClassifier\n",
        "from sklearn.feature_extraction.text import TfidfVectorizer\n",
        "from sklearn.pipeline import Pipeline\n",
        "import pickle  # Import pickle for model saving\n",
        "\n",
        "# Load your large dataset\n",
        "df = pd.read_csv('train_updated.csv')\n",
        "\n",
        "# Use the first 500 rows\n",
        "df_subset = df.head(500)\n",
        "\n",
        "# Create a pipeline with a TF-IDF vectorizer and a RandomForest classifier\n",
        "pipeline = Pipeline([\n",
        "    ('tfidf', TfidfVectorizer()),\n",
        "    ('rf', RandomForestClassifier())\n",
        "])\n",
        "\n",
        "# Train the model\n",
        "pipeline.fit(df_subset['question'], df_subset['cop'])\n",
        "\n",
        "# Save the trained model as a pickle file\n",
        "with open('medical_chatbot_model.pkl', 'wb') as file:\n",
        "    pickle.dump(pipeline, file)\n",
        "\n"
      ],
      "metadata": {
        "id": "FuKaJVHME6vi"
      },
      "execution_count": null,
      "outputs": []
    },
    {
      "cell_type": "code",
      "source": [
        "with open('/content/medical_chatbot_model.pkl', 'rb') as model_file:\n",
        "    model = pickle.load(model_file)\n",
        "\n",
        "# Welcome message\n",
        "print(\"Hi, I am a medical chatbot. Please tell me your symptoms, and I will try to predict your disorder.\")\n",
        "\n",
        "# Example usage in a continuous loop\n",
        "while True:\n",
        "    user_input = input(\"User: \")\n",
        "\n",
        "    # Use the trained RF model for prediction\n",
        "    predicted_disorder = model.predict([user_input])[0]\n",
        "\n",
        "    # Output the result\n",
        "    print(f\"I think you may have a disorder related to {predicted_disorder}. Sorry to hear that. I hope you feel well.\\n\")\n",
        "\n",
        "    # Ask for another input or exit\n",
        "    another_input = input(\"Do you have more symptoms to share? (yes/no): \")\n",
        "    if another_input.lower() != 'yes':\n",
        "        print(\"Thank you for using the medical chatbot. Take care!\")\n",
        "        break"
      ],
      "metadata": {
        "id": "ojnW0OKDrpjV"
      },
      "execution_count": null,
      "outputs": []
    }
  ]
}